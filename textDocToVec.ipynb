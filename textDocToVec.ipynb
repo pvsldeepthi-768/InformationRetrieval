{
 "cells": [
  {
   "cell_type": "code",
   "execution_count": 2,
   "id": "47300939-3496-4119-b94d-b8317b1cd9b3",
   "metadata": {},
   "outputs": [
    {
     "name": "stdout",
     "output_type": "stream",
     "text": [
      "TF-IDF matrix:\n",
      "[[0.         0.57615236 0.40993715 0.         0.40993715 0.57615236]\n",
      " [0.57615236 0.         0.40993715 0.57615236 0.40993715 0.        ]]\n",
      "\n",
      " vocabulary (term):\n",
      "['extraction' 'fun' 'information' 'interesting' 'is' 'retrievel']\n",
      "\n",
      " cosine similarity betweenDocument 1 and Documetn2 :\n",
      "0.3360969272762575\n"
     ]
    }
   ],
   "source": [
    "from sklearn.feature_extraction.text import TfidfVectorizer\n",
    "from sklearn.metrics.pairwise import cosine_similarity\n",
    "\n",
    "#step 1: documents\n",
    "doc1=\"Information Retrievel is fun\"\n",
    "doc2=\"Information Extraction is interesting\"\n",
    "\n",
    "documents=[doc1,doc2]\n",
    "vectorizer=TfidfVectorizer()\n",
    "tfidf_matrix = vectorizer.fit_transform(documents)\n",
    "\n",
    "print(\"TF-IDF matrix:\")\n",
    "print(tfidf_matrix.toarray())\n",
    "\n",
    "print(\"\\n vocabulary (term):\")\n",
    "print(vectorizer.get_feature_names_out())\n",
    "similarity=cosine_similarity(tfidf_matrix[0:1],tfidf_matrix[1:2])\n",
    "print(\"\\n cosine similarity betweenDocument 1 and Documetn2 :\")\n",
    "print(similarity[0][0])\n"
   ]
  },
  {
   "cell_type": "code",
   "execution_count": 1,
   "id": "6324b80b-966b-472c-b252-8c4b2722a3c5",
   "metadata": {},
   "outputs": [
    {
     "name": "stdout",
     "output_type": "stream",
     "text": [
      "TF-IDF matrix:\n",
      "[[0.37997836 0.53404633 0.53404633 0.         0.53404633 0.        ]\n",
      " [0.44943642 0.         0.         0.6316672  0.         0.6316672 ]]\n",
      "\n",
      " vocabulary (term):\n",
      "['art' 'faces' 'has' 'life' 'many' 'of']\n",
      "\n",
      " cosine similarity betweenDocument 1 and Documetn2 :\n",
      "0.17077611319011649\n"
     ]
    }
   ],
   "source": [
    "from sklearn.feature_extraction.text import TfidfVectorizer\n",
    "from sklearn.metrics.pairwise import cosine_similarity\n",
    "\n",
    "#step 1: documents\n",
    "doc1=\"Art has many faces\"\n",
    "doc2=\"life of art\"\n",
    "\n",
    "documents=[doc1,doc2]\n",
    "vectorizer=TfidfVectorizer()\n",
    "tfidf_matrix = vectorizer.fit_transform(documents)\n",
    "\n",
    "print(\"TF-IDF matrix:\")\n",
    "print(tfidf_matrix.toarray())\n",
    "\n",
    "print(\"\\n vocabulary (term):\")\n",
    "print(vectorizer.get_feature_names_out())\n",
    "similarity=cosine_similarity(tfidf_matrix[0:1],tfidf_matrix[1:2])\n",
    "print(\"\\n cosine similarity betweenDocument 1 and Documetn2 :\")\n",
    "print(similarity[0][0])"
   ]
  },
  {
   "cell_type": "code",
   "execution_count": null,
   "id": "17ca6325-e9a1-43f7-bf9d-0cc9861e9a3c",
   "metadata": {},
   "outputs": [],
   "source": [
    " "
   ]
  }
 ],
 "metadata": {
  "kernelspec": {
   "display_name": "Python 3 (ipykernel)",
   "language": "python",
   "name": "python3"
  },
  "language_info": {
   "codemirror_mode": {
    "name": "ipython",
    "version": 3
   },
   "file_extension": ".py",
   "mimetype": "text/x-python",
   "name": "python",
   "nbconvert_exporter": "python",
   "pygments_lexer": "ipython3",
   "version": "3.13.5"
  }
 },
 "nbformat": 4,
 "nbformat_minor": 5
}
