{
 "cells": [
  {
   "cell_type": "code",
   "execution_count": 6,
   "id": "1aae8ee1-44fd-4782-b788-a73188e3cade",
   "metadata": {},
   "outputs": [
    {
     "name": "stdout",
     "output_type": "stream",
     "text": [
      "Original Words in the document: ['programmers', 'use', 'programming', 'languages', 'to', 'build', 'softwares', '.']\n",
      "After Stop Word Removal: ['programmers', 'use', 'programming', 'languages', 'build', 'softwares', '.']\n",
      "After Stemming: ['programm', 'use', 'program', 'languag', 'build', 'softwar', '.']\n"
     ]
    }
   ],
   "source": [
    "import nltk\n",
    "from nltk.corpus import stopwords\n",
    "from nltk.tokenize import word_tokenize\n",
    "from nltk.stem import PorterStemmer\n",
    "\n",
    "text = \"programmers use programming languages to build softwares.\"\n",
    "#tokenize the text\n",
    "words = word_tokenize(text)\n",
    "print(\"Original Words in the document:\", words)\n",
    "#stop word removal\n",
    "stop_words = set(stopwords.words('english'))\n",
    "filtered_words = [w for w in words if w.lower() not in stop_words]\n",
    "\n",
    "print(\"After Stop Word Removal:\", filtered_words)\n",
    "#stemming the text\n",
    "ps = PorterStemmer()\n",
    "stemmed_words = [ps.stem(w) for w in filtered_words]\n",
    "\n",
    "print(\"After Stemming:\", stemmed_words)"
   ]
  },
  {
   "cell_type": "code",
   "execution_count": null,
   "id": "3ddb9679-2e91-4235-b17f-4798ee0be74b",
   "metadata": {},
   "outputs": [],
   "source": []
  }
 ],
 "metadata": {
  "kernelspec": {
   "display_name": "Python 3 (ipykernel)",
   "language": "python",
   "name": "python3"
  },
  "language_info": {
   "codemirror_mode": {
    "name": "ipython",
    "version": 3
   },
   "file_extension": ".py",
   "mimetype": "text/x-python",
   "name": "python",
   "nbconvert_exporter": "python",
   "pygments_lexer": "ipython3",
   "version": "3.13.5"
  }
 },
 "nbformat": 4,
 "nbformat_minor": 5
}
